{
 "cells": [
  {
   "cell_type": "code",
   "execution_count": 1,
   "metadata": {},
   "outputs": [],
   "source": [
    "import numpy as np\n",
    "import matplotlib.pyplot as plt\n",
    "import scipy.linalg as lng\n",
    "import scipy.io\n",
    "from sklearn.neighbors import KNeighborsClassifier\n",
    "from sklearn.model_selection import train_test_split, KFold\n",
    "from sklearn.metrics import roc_curve, auc, mean_squared_error\n",
    "from sklearn import linear_model\n",
    "import HelpFctsNormalize as hlp"
   ]
  },
  {
   "cell_type": "code",
   "execution_count": 2,
   "metadata": {},
   "outputs": [
    {
     "name": "stdout",
     "output_type": "stream",
     "text": [
      "X: (59, 2016)\n",
      "Y: (59, 1)\n"
     ]
    }
   ],
   "source": [
    "mat = scipy.io.loadmat('sand.mat')\n",
    "X = mat['X']\n",
    "y = mat['Y']\n",
    "\n",
    "print 'X:',X.shape\n",
    "print 'Y:', y.shape"
   ]
  },
  {
   "cell_type": "code",
   "execution_count": 3,
   "metadata": {},
   "outputs": [],
   "source": [
    "#y_center,Mu = hlp.center(y)"
   ]
  },
  {
   "cell_type": "code",
   "execution_count": 4,
   "metadata": {},
   "outputs": [],
   "source": [
    "n_lambda = 10\n",
    "k = 5\n",
    "errors = np.zeros((k,n_lambda))\n",
    "\n",
    "kf = KFold(n_splits=k)\n",
    "kf.get_n_splits(X)\n",
    "\n",
    "# Cross Validation\n",
    "\n",
    "for j,(train_index, test_index) in enumerate(kf.split(X)):\n",
    "    # X data\n",
    "    X_train, X_test = X[train_index], X[test_index]\n",
    "    X_train, mu, d = hlp.normalize(X_train)\n",
    "    X_test = hlp.normalizetest(X_test,mu,d)\n",
    "    \n",
    "    # Y data\n",
    "    y_train,_ = hlp.center(y[train_index])\n",
    "    y_test,_ = hlp.center(y[test_index])\n",
    "    \n",
    "    for i in range(n_lambda):\n",
    "        \n",
    "        reg = linear_model.Lars(n_nonzero_coefs=i, fit_path = False, fit_intercept = False , verbose = True)\n",
    "        reg.fit(X_train,y_train)\n",
    "\n",
    "        y_hat = reg.predict(X_test)\n",
    "        \n",
    "        errors[j,i]=np.mean((y_hat-y_test)**2)"
   ]
  },
  {
   "cell_type": "code",
   "execution_count": 5,
   "metadata": {},
   "outputs": [
    {
     "name": "stdout",
     "output_type": "stream",
     "text": [
      "best lambda value: 7 with MSE: 1.55319369471\n"
     ]
    }
   ],
   "source": [
    "lambda_errors = np.mean(errors,axis=0)\n",
    "print 'best lambda value:', lambda_errors.argmin(),'with MSE:' ,lambda_errors[lambda_errors.argmin()]\n",
    "\n",
    "#plt.plot([i for i in range(len(lambda_errors))],lambda_errors)\n",
    "#for lam in zip([i for i in range(len(lambda_errors))],lambda_errors):\n",
    "#    print lam"
   ]
  },
  {
   "cell_type": "code",
   "execution_count": 6,
   "metadata": {},
   "outputs": [],
   "source": [
    "ratio = 2\n",
    "_lambda = 1\n",
    "\n",
    "reg_elastic = linear_model.ElasticNet(alpha = _lambda, l1_ratio = ratio/10, fit_intercept = False)"
   ]
  },
  {
   "cell_type": "code",
   "execution_count": null,
   "metadata": {
    "collapsed": true
   },
   "outputs": [],
   "source": []
  },
  {
   "cell_type": "code",
   "execution_count": null,
   "metadata": {
    "collapsed": true
   },
   "outputs": [],
   "source": []
  },
  {
   "cell_type": "code",
   "execution_count": 7,
   "metadata": {},
   "outputs": [
    {
     "ename": "SyntaxError",
     "evalue": "invalid syntax (<ipython-input-7-4902817b8744>, line 5)",
     "output_type": "error",
     "traceback": [
      "\u001b[0;36m  File \u001b[0;32m\"<ipython-input-7-4902817b8744>\"\u001b[0;36m, line \u001b[0;32m5\u001b[0m\n\u001b[0;31m    reg elastic . fit (Xtrain , ytrain) # fit model\u001b[0m\n\u001b[0m              ^\u001b[0m\n\u001b[0;31mSyntaxError\u001b[0m\u001b[0;31m:\u001b[0m invalid syntax\n"
     ]
    }
   ],
   "source": [
    "reg_elastic = linear_model.ElasticNet(alpha = _lambda, l1_ratio = ratio/10, fit_intercept = False)\n",
    "\n",
    "\n",
    "# Elastic net model\n",
    "reg elastic . fit (Xtrain , ytrain) # fit model\n",
    "beta = reg elastic . coef # extract betas\n",
    "slope, intercept, r value, PValues[j], std err = linregress(Xsub, y)\n",
    "# linear regression\n",
    "FDR = multipletests(PValues, alpha = 0.05, method = ”fdr bh”)[1]\n",
    "# Computing Benjamini Hochberg ’ s FDR"
   ]
  },
  {
   "cell_type": "code",
   "execution_count": null,
   "metadata": {
    "collapsed": true
   },
   "outputs": [],
   "source": []
  }
 ],
 "metadata": {
  "kernelspec": {
   "display_name": "Python [conda env:anaconda]",
   "language": "python",
   "name": "conda-env-anaconda-py"
  },
  "language_info": {
   "codemirror_mode": {
    "name": "ipython",
    "version": 2
   },
   "file_extension": ".py",
   "mimetype": "text/x-python",
   "name": "python",
   "nbconvert_exporter": "python",
   "pygments_lexer": "ipython2",
   "version": "2.7.13"
  }
 },
 "nbformat": 4,
 "nbformat_minor": 2
}
