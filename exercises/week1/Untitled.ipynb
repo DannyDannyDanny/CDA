{
 "cells": [
  {
   "cell_type": "markdown",
   "metadata": {},
   "source": [
    "### 1. Solve the OLS computationally."
   ]
  },
  {
   "cell_type": "code",
   "execution_count": 8,
   "metadata": {},
   "outputs": [
    {
     "data": {
      "text/html": [
       "<table class=\"simpletable\">\n",
       "<caption>OLS Regression Results</caption>\n",
       "<tr>\n",
       "  <th>Dep. Variable:</th>            <td>Y</td>        <th>  R-squared:         </th> <td>   0.896</td> \n",
       "</tr>\n",
       "<tr>\n",
       "  <th>Model:</th>                   <td>OLS</td>       <th>  Adj. R-squared:    </th> <td>   0.894</td> \n",
       "</tr>\n",
       "<tr>\n",
       "  <th>Method:</th>             <td>Least Squares</td>  <th>  F-statistic:       </th> <td>   372.3</td> \n",
       "</tr>\n",
       "<tr>\n",
       "  <th>Date:</th>             <td>Thu, 01 Feb 2018</td> <th>  Prob (F-statistic):</th> <td>2.76e-205</td>\n",
       "</tr>\n",
       "<tr>\n",
       "  <th>Time:</th>                 <td>15:17:36</td>     <th>  Log-Likelihood:    </th> <td> -2398.3</td> \n",
       "</tr>\n",
       "<tr>\n",
       "  <th>No. Observations:</th>      <td>   442</td>      <th>  AIC:               </th> <td>   4817.</td> \n",
       "</tr>\n",
       "<tr>\n",
       "  <th>Df Residuals:</th>          <td>   432</td>      <th>  BIC:               </th> <td>   4857.</td> \n",
       "</tr>\n",
       "<tr>\n",
       "  <th>Df Model:</th>              <td>    10</td>      <th>                     </th>     <td> </td>    \n",
       "</tr>\n",
       "<tr>\n",
       "  <th>Covariance Type:</th>      <td>nonrobust</td>    <th>                     </th>     <td> </td>    \n",
       "</tr>\n",
       "</table>\n",
       "<table class=\"simpletable\">\n",
       "<tr>\n",
       "   <td></td>      <th>coef</th>     <th>std err</th>      <th>t</th>      <th>P>|t|</th>  <th>[0.025</th>    <th>0.975]</th>  \n",
       "</tr>\n",
       "<tr>\n",
       "  <th>AGE</th> <td>    0.0223</td> <td>    0.223</td> <td>    0.100</td> <td> 0.920</td> <td>   -0.415</td> <td>    0.460</td>\n",
       "</tr>\n",
       "<tr>\n",
       "  <th>SEX</th> <td>  -26.0728</td> <td>    5.956</td> <td>   -4.378</td> <td> 0.000</td> <td>  -37.779</td> <td>  -14.366</td>\n",
       "</tr>\n",
       "<tr>\n",
       "  <th>BMI</th> <td>    5.3537</td> <td>    0.735</td> <td>    7.288</td> <td> 0.000</td> <td>    3.910</td> <td>    6.798</td>\n",
       "</tr>\n",
       "<tr>\n",
       "  <th>BP</th>  <td>    1.0178</td> <td>    0.230</td> <td>    4.418</td> <td> 0.000</td> <td>    0.565</td> <td>    1.471</td>\n",
       "</tr>\n",
       "<tr>\n",
       "  <th>S1</th>  <td>    1.2636</td> <td>    0.330</td> <td>    3.824</td> <td> 0.000</td> <td>    0.614</td> <td>    1.913</td>\n",
       "</tr>\n",
       "<tr>\n",
       "  <th>S2</th>  <td>   -1.2849</td> <td>    0.347</td> <td>   -3.705</td> <td> 0.000</td> <td>   -1.967</td> <td>   -0.603</td>\n",
       "</tr>\n",
       "<tr>\n",
       "  <th>S3</th>  <td>   -3.0683</td> <td>    0.372</td> <td>   -8.250</td> <td> 0.000</td> <td>   -3.799</td> <td>   -2.337</td>\n",
       "</tr>\n",
       "<tr>\n",
       "  <th>S4</th>  <td>   -5.5080</td> <td>    5.588</td> <td>   -0.986</td> <td> 0.325</td> <td>  -16.492</td> <td>    5.476</td>\n",
       "</tr>\n",
       "<tr>\n",
       "  <th>S5</th>  <td>    5.5034</td> <td>    9.429</td> <td>    0.584</td> <td> 0.560</td> <td>  -13.030</td> <td>   24.036</td>\n",
       "</tr>\n",
       "<tr>\n",
       "  <th>S6</th>  <td>    0.1234</td> <td>    0.279</td> <td>    0.443</td> <td> 0.658</td> <td>   -0.425</td> <td>    0.671</td>\n",
       "</tr>\n",
       "</table>\n",
       "<table class=\"simpletable\">\n",
       "<tr>\n",
       "  <th>Omnibus:</th>       <td> 2.175</td> <th>  Durbin-Watson:     </th> <td>   1.990</td>\n",
       "</tr>\n",
       "<tr>\n",
       "  <th>Prob(Omnibus):</th> <td> 0.337</td> <th>  Jarque-Bera (JB):  </th> <td>   2.000</td>\n",
       "</tr>\n",
       "<tr>\n",
       "  <th>Skew:</th>          <td> 0.081</td> <th>  Prob(JB):          </th> <td>   0.368</td>\n",
       "</tr>\n",
       "<tr>\n",
       "  <th>Kurtosis:</th>      <td> 2.713</td> <th>  Cond. No.          </th> <td>1.02e+03</td>\n",
       "</tr>\n",
       "</table>"
      ],
      "text/plain": [
       "<class 'statsmodels.iolib.summary.Summary'>\n",
       "\"\"\"\n",
       "                            OLS Regression Results                            \n",
       "==============================================================================\n",
       "Dep. Variable:                      Y   R-squared:                       0.896\n",
       "Model:                            OLS   Adj. R-squared:                  0.894\n",
       "Method:                 Least Squares   F-statistic:                     372.3\n",
       "Date:                Thu, 01 Feb 2018   Prob (F-statistic):          2.76e-205\n",
       "Time:                        15:17:36   Log-Likelihood:                -2398.3\n",
       "No. Observations:                 442   AIC:                             4817.\n",
       "Df Residuals:                     432   BIC:                             4857.\n",
       "Df Model:                          10                                         \n",
       "Covariance Type:            nonrobust                                         \n",
       "==============================================================================\n",
       "                 coef    std err          t      P>|t|      [0.025      0.975]\n",
       "------------------------------------------------------------------------------\n",
       "AGE            0.0223      0.223      0.100      0.920      -0.415       0.460\n",
       "SEX          -26.0728      5.956     -4.378      0.000     -37.779     -14.366\n",
       "BMI            5.3537      0.735      7.288      0.000       3.910       6.798\n",
       "BP             1.0178      0.230      4.418      0.000       0.565       1.471\n",
       "S1             1.2636      0.330      3.824      0.000       0.614       1.913\n",
       "S2            -1.2849      0.347     -3.705      0.000      -1.967      -0.603\n",
       "S3            -3.0683      0.372     -8.250      0.000      -3.799      -2.337\n",
       "S4            -5.5080      5.588     -0.986      0.325     -16.492       5.476\n",
       "S5             5.5034      9.429      0.584      0.560     -13.030      24.036\n",
       "S6             0.1234      0.279      0.443      0.658      -0.425       0.671\n",
       "==============================================================================\n",
       "Omnibus:                        2.175   Durbin-Watson:                   1.990\n",
       "Prob(Omnibus):                  0.337   Jarque-Bera (JB):                2.000\n",
       "Skew:                           0.081   Prob(JB):                        0.368\n",
       "Kurtosis:                       2.713   Cond. No.                     1.02e+03\n",
       "==============================================================================\n",
       "\n",
       "Warnings:\n",
       "[1] Standard Errors assume that the covariance matrix of the errors is correctly specified.\n",
       "[2] The condition number is large, 1.02e+03. This might indicate that there are\n",
       "strong multicollinearity or other numerical problems.\n",
       "\"\"\""
      ]
     },
     "execution_count": 8,
     "metadata": {},
     "output_type": "execute_result"
    }
   ],
   "source": [
    "import numpy as np\n",
    "import pandas as pd\n",
    "import statsmodels.formula.api as smf\n",
    "import statsmodels.api as sm\n",
    "\n",
    "# Specify folder path where dataset is etc.\n",
    "path = \"\"\n",
    "\n",
    "data = pd.read_csv(path + \"DiabetesData.txt\", sep = \"\\s+\", header = 0)\n",
    "\n",
    "# Linear mixed effects model, probably not what one wants here\n",
    "lme = smf.mixedlm('Y ~ AGE+SEX+BMI+BP+S1+S2+S3+S4+S5+S6', data, groups = data['SEX'])\n",
    "\n",
    "# Ordinary linear regression model\n",
    "X = data[[\"AGE\", \"SEX\",\"BMI\",\"BP\", \"S1\", \"S2\", \"S3\", \"S4\", \"S5\", \"S6\"]]\n",
    "y = data[\"Y\"]\n",
    "lm = sm.OLS(y, X).fit()\n",
    "\n",
    "lm.summary()"
   ]
  },
  {
   "cell_type": "code",
   "execution_count": 82,
   "metadata": {},
   "outputs": [
    {
     "data": {
      "text/html": [
       "<div>\n",
       "<style scoped>\n",
       "    .dataframe tbody tr th:only-of-type {\n",
       "        vertical-align: middle;\n",
       "    }\n",
       "\n",
       "    .dataframe tbody tr th {\n",
       "        vertical-align: top;\n",
       "    }\n",
       "\n",
       "    .dataframe thead th {\n",
       "        text-align: right;\n",
       "    }\n",
       "</style>\n",
       "<table border=\"1\" class=\"dataframe\">\n",
       "  <thead>\n",
       "    <tr style=\"text-align: right;\">\n",
       "      <th></th>\n",
       "      <th>AGE</th>\n",
       "      <th>SEX</th>\n",
       "      <th>BMI</th>\n",
       "      <th>BP</th>\n",
       "      <th>S1</th>\n",
       "      <th>S2</th>\n",
       "      <th>S3</th>\n",
       "      <th>S4</th>\n",
       "      <th>S5</th>\n",
       "      <th>S6</th>\n",
       "    </tr>\n",
       "  </thead>\n",
       "  <tbody>\n",
       "    <tr>\n",
       "      <th>1</th>\n",
       "      <td>48</td>\n",
       "      <td>1</td>\n",
       "      <td>21.6</td>\n",
       "      <td>87.0</td>\n",
       "      <td>183</td>\n",
       "      <td>103.2</td>\n",
       "      <td>70.0</td>\n",
       "      <td>3.0</td>\n",
       "      <td>3.8918</td>\n",
       "      <td>69</td>\n",
       "    </tr>\n",
       "    <tr>\n",
       "      <th>2</th>\n",
       "      <td>72</td>\n",
       "      <td>2</td>\n",
       "      <td>30.5</td>\n",
       "      <td>93.0</td>\n",
       "      <td>156</td>\n",
       "      <td>93.6</td>\n",
       "      <td>41.0</td>\n",
       "      <td>4.0</td>\n",
       "      <td>4.6728</td>\n",
       "      <td>85</td>\n",
       "    </tr>\n",
       "    <tr>\n",
       "      <th>3</th>\n",
       "      <td>24</td>\n",
       "      <td>1</td>\n",
       "      <td>25.3</td>\n",
       "      <td>84.0</td>\n",
       "      <td>198</td>\n",
       "      <td>131.4</td>\n",
       "      <td>40.0</td>\n",
       "      <td>5.0</td>\n",
       "      <td>4.8903</td>\n",
       "      <td>89</td>\n",
       "    </tr>\n",
       "    <tr>\n",
       "      <th>4</th>\n",
       "      <td>50</td>\n",
       "      <td>1</td>\n",
       "      <td>23.0</td>\n",
       "      <td>101.0</td>\n",
       "      <td>192</td>\n",
       "      <td>125.4</td>\n",
       "      <td>52.0</td>\n",
       "      <td>4.0</td>\n",
       "      <td>4.2905</td>\n",
       "      <td>80</td>\n",
       "    </tr>\n",
       "  </tbody>\n",
       "</table>\n",
       "</div>"
      ],
      "text/plain": [
       "   AGE  SEX   BMI     BP   S1     S2    S3   S4      S5  S6\n",
       "1   48    1  21.6   87.0  183  103.2  70.0  3.0  3.8918  69\n",
       "2   72    2  30.5   93.0  156   93.6  41.0  4.0  4.6728  85\n",
       "3   24    1  25.3   84.0  198  131.4  40.0  5.0  4.8903  89\n",
       "4   50    1  23.0  101.0  192  125.4  52.0  4.0  4.2905  80"
      ]
     },
     "execution_count": 82,
     "metadata": {},
     "output_type": "execute_result"
    }
   ],
   "source": [
    "X[1:5]"
   ]
  },
  {
   "cell_type": "code",
   "execution_count": 84,
   "metadata": {},
   "outputs": [
    {
     "data": {
      "text/plain": [
       "1     75\n",
       "2    141\n",
       "3    206\n",
       "4    135\n",
       "Name: Y, dtype: int64"
      ]
     },
     "execution_count": 84,
     "metadata": {},
     "output_type": "execute_result"
    }
   ],
   "source": [
    "y[1:5]"
   ]
  },
  {
   "cell_type": "markdown",
   "metadata": {},
   "source": [
    "## 1.a Solving the linear system of equations with `linang.lnstsq`:"
   ]
  },
  {
   "cell_type": "code",
   "execution_count": 85,
   "metadata": {},
   "outputs": [
    {
     "data": {
      "text/plain": [
       "array([  2.22964299e-02,  -2.60727886e+01,   5.35372592e+00,\n",
       "         1.01779705e+00,   1.26358591e+00,  -1.28493621e+00,\n",
       "        -3.06827817e+00,  -5.50804168e+00,   5.50338146e+00,\n",
       "         1.23385180e-01])"
      ]
     },
     "execution_count": 85,
     "metadata": {},
     "output_type": "execute_result"
    }
   ],
   "source": [
    "np.linalg.lstsq(X,y)[0]"
   ]
  },
  {
   "cell_type": "markdown",
   "metadata": {},
   "source": [
    "## 1.b Including an intercept term"
   ]
  },
  {
   "cell_type": "code",
   "execution_count": 86,
   "metadata": {},
   "outputs": [
    {
     "data": {
      "text/plain": [
       "array([  2.40496915e-02,  -2.75827533e+01,   5.49208566e+00,\n",
       "         1.08680194e+00,   1.11742785e+00,  -1.15309029e+00,\n",
       "        -2.76838104e+00,  -4.42449399e+00,   8.40003300e+00,\n",
       "         2.38770366e-01])"
      ]
     },
     "execution_count": 86,
     "metadata": {},
     "output_type": "execute_result"
    }
   ],
   "source": [
    "# Intercept term\n",
    "v = 2\n",
    "# could also be a matrix\n",
    "10*np.random.rand(*X.shape)\n",
    "\n",
    "# An intercept term is added to every element in X.\n",
    "X_v = X + v\n",
    "\n",
    "# slightly different result observed\n",
    "np.linalg.lstsq(X_v,y)[0]"
   ]
  },
  {
   "cell_type": "markdown",
   "metadata": {},
   "source": [
    "## 1.c Calculating mean squared error MSE"
   ]
  },
  {
   "cell_type": "code",
   "execution_count": null,
   "metadata": {
    "collapsed": true
   },
   "outputs": [],
   "source": []
  },
  {
   "cell_type": "markdown",
   "metadata": {},
   "source": [
    "# 2"
   ]
  },
  {
   "cell_type": "code",
   "execution_count": null,
   "metadata": {
    "collapsed": true
   },
   "outputs": [],
   "source": []
  }
 ],
 "metadata": {
  "kernelspec": {
   "display_name": "Python [conda env:anaconda]",
   "language": "python",
   "name": "conda-env-anaconda-py"
  },
  "language_info": {
   "codemirror_mode": {
    "name": "ipython",
    "version": 2
   },
   "file_extension": ".py",
   "mimetype": "text/x-python",
   "name": "python",
   "nbconvert_exporter": "python",
   "pygments_lexer": "ipython2",
   "version": "2.7.13"
  }
 },
 "nbformat": 4,
 "nbformat_minor": 2
}
