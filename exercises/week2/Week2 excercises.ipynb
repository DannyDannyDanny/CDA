{
 "cells": [
  {
   "cell_type": "code",
   "execution_count": 2,
   "metadata": {
    "collapsed": true
   },
   "outputs": [],
   "source": [
    "import numpy as np\n",
    "import matplotlib.pyplot as plt\n",
    "import scipy.linalg as lng\n",
    "import scipy.io\n",
    "from sklearn.neighbors import KNeighborsClassifier\n",
    "from sklearn.model_selection import train_test_split\n",
    "from sklearn.metrics import roc_curve, auc, mean_squared_error"
   ]
  },
  {
   "cell_type": "code",
   "execution_count": 3,
   "metadata": {},
   "outputs": [
    {
     "name": "stdout",
     "output_type": "stream",
     "text": [
      "\n"
     ]
    }
   ],
   "source": [
    "\"\"\"scipy.io.loadmat(\"diabetes.mat\")\n",
    "(i+1)%K+1 # use modulus K to get folds\n",
    "np.random.permutation(N) # random permuation of N values\n",
    "Xtrain = X[i != I, :] #Training Data\n",
    "np.trance(outer) # trace of the matrix outer\n",
    "np.random.randint(0,N,N) # sample with replacement\n",
    "scipy.io.loadmat(\"Silhouettes.mat\")\n",
    "KNeighborsClassifier()\"\"\"\n",
    "print"
   ]
  },
  {
   "cell_type": "markdown",
   "metadata": {},
   "source": [
    "## 1) A"
   ]
  },
  {
   "cell_type": "code",
   "execution_count": 4,
   "metadata": {
    "collapsed": true
   },
   "outputs": [],
   "source": [
    "\n",
    "def ridge_fit(X,y,lam):\n",
    "    X = np.mat(X)\n",
    "    Beta = np.linalg.pinv(X.T*X+lam*np.eye(X.shape[1]))*X.T*y    \n",
    "    return Beta\n",
    "\n",
    "\n",
    "def ridge_predict(x,Beta):\n",
    "    y = np.dot(x,Beta)\n",
    "    return y\n",
    "\n",
    "def generate_k_folds(X_data,y_data,k):\n",
    "    l = X_d.shape[0];\n",
    "    # ranges\n",
    "    rans = [(i*l/k,(i+1)*l/k) for i in range(k)]\n",
    "    # folds\n",
    "    x_folds = [X_data[ran[0]:ran[1],:] for ran in rans]\n",
    "    y_folds = [y_data[ran[0]:ran[1]] for ran in rans]\n",
    "    return x_folds,y_folds"
   ]
  },
  {
   "cell_type": "code",
   "execution_count": 5,
   "metadata": {},
   "outputs": [
    {
     "data": {
      "text/plain": [
       "matrix([[ 415.10527286],\n",
       "        [ 415.10527286],\n",
       "        [ 415.10527286],\n",
       "        [ 415.10527286],\n",
       "        [ 415.10527286],\n",
       "        [ 415.10527286],\n",
       "        [ 415.10527286],\n",
       "        [ 415.10527286],\n",
       "        [ 415.10527286],\n",
       "        [ 415.10527286],\n",
       "        [ 415.10527286],\n",
       "        [ 415.10527286],\n",
       "        [ 415.10527286],\n",
       "        [ 415.10527286]])"
      ]
     },
     "execution_count": 5,
     "metadata": {},
     "output_type": "execute_result"
    }
   ],
   "source": [
    "# load data\n",
    "data_diab = scipy.io.loadmat(\"diabetes.mat\")\n",
    "\n",
    "X_d = data_diab['X']\n",
    "y_d = data_diab['y']\n",
    "\n",
    "n_of_attributes = 10\n",
    "n_of_samples = 14\n",
    "x = [[0.5 for y in range(n_of_attributes)] for x in range(14)]\n",
    "\n",
    "#x\n",
    "lam = 0.5\n",
    "ridge_predict(x,ridge_fit(X_d,y_d,lam))"
   ]
  },
  {
   "cell_type": "markdown",
   "metadata": {},
   "source": [
    "# 1) B"
   ]
  },
  {
   "cell_type": "code",
   "execution_count": 6,
   "metadata": {},
   "outputs": [
    {
     "name": "stdout",
     "output_type": "stream",
     "text": [
      "v, t, t, t, t, t, t, t, t, t,\n",
      "0 [1, 2, 3, 4, 5, 6, 7, 8, 9]\n",
      "1 [0, 2, 3, 4, 5, 6, 7, 8, 9]\n",
      "2 [0, 1, 3, 4, 5, 6, 7, 8, 9]\n",
      "3 [0, 1, 2, 4, 5, 6, 7, 8, 9]\n",
      "4 [0, 1, 2, 3, 5, 6, 7, 8, 9]\n",
      "5 [0, 1, 2, 3, 4, 6, 7, 8, 9]\n",
      "6 [0, 1, 2, 3, 4, 5, 7, 8, 9]\n",
      "7 [0, 1, 2, 3, 4, 5, 6, 8, 9]\n",
      "8 [0, 1, 2, 3, 4, 5, 6, 7, 9]\n",
      "9 [0, 1, 2, 3, 4, 5, 6, 7, 8]\n"
     ]
    }
   ],
   "source": [
    "k = 10 # number of folds\n",
    "print 'v,'+((k-1)*' t,')\n",
    "\n",
    "# construct cross validation matrix\n",
    "for i in range(k):\n",
    "    i_test = i\n",
    "    i_validation = range(k)\n",
    "    i_validation.remove(i)\n",
    "    print i_test,i_validation"
   ]
  },
  {
   "cell_type": "code",
   "execution_count": 7,
   "metadata": {
    "collapsed": true
   },
   "outputs": [],
   "source": [
    "k=5\n",
    "X_folds, y_folds = generate_k_folds(X_d,y_d,k) # generate folds"
   ]
  },
  {
   "cell_type": "code",
   "execution_count": 8,
   "metadata": {},
   "outputs": [
    {
     "name": "stdout",
     "output_type": "stream",
     "text": [
      "88\n",
      "89\n"
     ]
    },
    {
     "data": {
      "text/plain": [
       "177"
      ]
     },
     "execution_count": 8,
     "metadata": {},
     "output_type": "execute_result"
    }
   ],
   "source": [
    "print len(X_folds[1])\n",
    "print len(X_folds[2])\n",
    "\n",
    "len(np.concatenate([X_folds[1],X_folds[2]]))"
   ]
  },
  {
   "cell_type": "code",
   "execution_count": 9,
   "metadata": {},
   "outputs": [
    {
     "name": "stdout",
     "output_type": "stream",
     "text": [
      "l,MSE\n"
     ]
    }
   ],
   "source": [
    "zook =[]\n",
    "\n",
    "print \"l,MSE\"\n",
    "for lam in [(i+0.0)/100 for i in range(100)]:\n",
    "    zinf = []\n",
    "    for i in range(k):\n",
    "        i_validation = i\n",
    "        i_train = range(k)\n",
    "        i_train.remove(i)\n",
    "        \"\"\"print 8*'--'\n",
    "        print 'fold distribution'\n",
    "        print 'v,'+((k-1)*' t,')\n",
    "        print i_validation,i_train\"\"\"\n",
    "\n",
    "        # build validation data\n",
    "        data_validation_x = X_folds[i_validation]\n",
    "        data_validation_y = y_folds[i_validation]\n",
    "\n",
    "        # build training data\n",
    "        data_training_x = np.concatenate([X_folds[fold] for fold in i_train])\n",
    "        data_training_y = np.concatenate([y_folds[fold] for fold in i_train])\n",
    "\n",
    "        # training\n",
    "        Betas = ridge_fit(data_training_x,data_training_y,lam)\n",
    "\n",
    "        # validation\n",
    "        data_predicted_y = ridge_predict(data_validation_x,Betas)\n",
    "        zinf.append(mean_squared_error(data_validation_y,data_predicted_y))\n",
    "\n",
    "    zook.append((lam,sum(zinf)/len(zinf)))"
   ]
  },
  {
   "cell_type": "code",
   "execution_count": 10,
   "metadata": {
    "collapsed": true
   },
   "outputs": [],
   "source": [
    "%matplotlib inline\n",
    "#plt.plot(zook)\n",
    "x,y = zip(*zook)"
   ]
  },
  {
   "cell_type": "code",
   "execution_count": 11,
   "metadata": {
    "scrolled": true
   },
   "outputs": [
    {
     "data": {
      "text/plain": [
       "[<matplotlib.lines.Line2D at 0x10a016650>]"
      ]
     },
     "execution_count": 11,
     "metadata": {},
     "output_type": "execute_result"
    },
    {
     "data": {
      "image/png": "[encoded data removed]",
      "text/plain": [
       "<matplotlib.figure.Figure at 0x105b4aa50>"
      ]
     },
     "metadata": {},
     "output_type": "display_data"
    }
   ],
   "source": [
    "%matplotlib inline\n",
    "plt.plot(x,y)"
   ]
  },
  {
   "cell_type": "code",
   "execution_count": null,
   "metadata": {
    "collapsed": true
   },
   "outputs": [],
   "source": []
  },
  {
   "cell_type": "code",
   "execution_count": null,
   "metadata": {
    "collapsed": true
   },
   "outputs": [],
   "source": []
  },
  {
   "cell_type": "code",
   "execution_count": null,
   "metadata": {
    "collapsed": true
   },
   "outputs": [],
   "source": []
  }
 ],
 "metadata": {
  "kernelspec": {
   "display_name": "Python [conda env:anaconda]",
   "language": "python",
   "name": "conda-env-anaconda-py"
  },
  "language_info": {
   "codemirror_mode": {
    "name": "ipython",
    "version": 2
   },
   "file_extension": ".py",
   "mimetype": "text/x-python",
   "name": "python",
   "nbconvert_exporter": "python",
   "pygments_lexer": "ipython2",
   "version": "2.7.13"
  }
 },
 "nbformat": 4,
 "nbformat_minor": 2
}
