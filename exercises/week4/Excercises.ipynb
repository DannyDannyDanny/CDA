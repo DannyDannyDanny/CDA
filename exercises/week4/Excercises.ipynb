{
 "cells": [
  {
   "cell_type": "code",
   "execution_count": 1,
   "metadata": {
    "collapsed": true
   },
   "outputs": [],
   "source": [
    "#from sklearn.linear_model import LogisticRegression"
   ]
  },
  {
   "cell_type": "code",
   "execution_count": 2,
   "metadata": {
    "collapsed": true
   },
   "outputs": [],
   "source": [
    "#from sklearn.linear_model import LogisticRegressionCV"
   ]
  },
  {
   "cell_type": "code",
   "execution_count": 3,
   "metadata": {
    "collapsed": true
   },
   "outputs": [],
   "source": [
    "import numpy as np\n",
    "from sklearn.metrics import confusion_matrix\n",
    "from sklearn.linear_model import LogisticRegression\n",
    "\n",
    "# Loading data\n",
    "dataTest = np.loadtxt('GolubGXtest.csv' ,delimiter=',')\n",
    "dataTrain = np.loadtxt('GolubGXtrain.csv' ,delimiter=',')\n",
    "\n",
    "# Training Data split\n",
    "X_train = dataTest[:,1:]\n",
    "y_train = dataTest[:,0]\n",
    "\n",
    "\n",
    "# Number of Observations, Features and Classes\n",
    "#N,M = X_train.shape\n",
    "#C = 2\n",
    "\n",
    "# Test Data split\n",
    "X_test = dataTrain[:,1:]\n",
    "y_test = dataTrain[:,0] "
   ]
  },
  {
   "cell_type": "code",
   "execution_count": 18,
   "metadata": {},
   "outputs": [
    {
     "data": {
      "text/plain": [
       "17"
      ]
     },
     "execution_count": 18,
     "metadata": {},
     "output_type": "execute_result"
    }
   ],
   "source": [
    "len(LogReg.coef_[LogReg.coef_!=0])"
   ]
  },
  {
   "cell_type": "code",
   "execution_count": 17,
   "metadata": {},
   "outputs": [
    {
     "name": "stdout",
     "output_type": "stream",
     "text": [
      "Conf matrix with training data:\n",
      "[[11  0]\n",
      " [ 0 25]]\n",
      "\n",
      "Conf matrix with test data:\n",
      "[[13  1]\n",
      " [ 1 21]]\n"
     ]
    }
   ],
   "source": [
    "# Instanciate\n",
    "# l1 decreases accuracy and number of parameters\n",
    "# l2 increases accuracy and number of paramaters\n",
    "# It's good to have few features to draw conclusions about data:\n",
    "# You can see which features are important\n",
    "LogReg = LogisticRegression(penalty='l1')\n",
    "\n",
    "# Train\n",
    "#LogReg.fit(X_train, y_train, sample_weight=None)\n",
    "LogReg.fit(X_train, y_train)\n",
    "\n",
    "# Confusion matrix\n",
    "#print confusion_matrix(y_true=y_train,y_pred=y_predict)\n",
    "print 'Conf matrix with training data:'\n",
    "print confusion_matrix(y_true=y_train,y_pred=LogReg.predict(X_train))\n",
    "\n",
    "print '\\nConf matrix with test data:'\n",
    "print confusion_matrix(y_true=y_test,y_pred=LogReg.predict(X_test))\n",
    "#LogReg.predict"
   ]
  },
  {
   "cell_type": "code",
   "execution_count": 11,
   "metadata": {},
   "outputs": [
    {
     "name": "stdout",
     "output_type": "stream",
     "text": [
      "0.888888888889\n"
     ]
    }
   ],
   "source": [
    "# Test\n",
    "y_predict = LogReg.predict(X_test)\n",
    "\n",
    "# Count number of matches\n",
    "nMatches = len([i for i in y_test-y_predict if int(i) == 0])\n",
    "nData = len(y_test)\n",
    "accuracy = float(nMatches) / float(nData)\n",
    "\n",
    "print accuracy"
   ]
  },
  {
   "cell_type": "code",
   "execution_count": null,
   "metadata": {
    "collapsed": true
   },
   "outputs": [],
   "source": []
  },
  {
   "cell_type": "code",
   "execution_count": null,
   "metadata": {
    "collapsed": true
   },
   "outputs": [],
   "source": []
  }
 ],
 "metadata": {
  "kernelspec": {
   "display_name": "Python 3",
   "language": "python",
   "name": "python3"
  },
  "language_info": {
   "codemirror_mode": {
    "name": "ipython",
    "version": 3
   },
   "file_extension": ".py",
   "mimetype": "text/x-python",
   "name": "python",
   "nbconvert_exporter": "python",
   "pygments_lexer": "ipython3",
   "version": "3.6.4"
  }
 },
 "nbformat": 4,
 "nbformat_minor": 2
}
