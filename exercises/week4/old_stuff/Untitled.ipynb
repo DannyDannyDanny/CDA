{
 "cells": [
  {
   "cell_type": "code",
   "execution_count": 19,
   "metadata": {
    "collapsed": true
   },
   "outputs": [],
   "source": [
    "import numpy as np\n",
    "from sklearn.metrics import confusion_matrix"
   ]
  },
  {
   "cell_type": "code",
   "execution_count": 2,
   "metadata": {
    "collapsed": true
   },
   "outputs": [],
   "source": [
    "dataPath = 'FisherIris.csv'\n",
    "attributeNames = []\n",
    "\n",
    "# Dump data file into an array\n",
    "with open(dataPath, \"r\") as ins:\n",
    "    listArray = []\n",
    "    for line in ins:\n",
    "        # Remove junk, irritating formating stuff\n",
    "        listArray.append(line.replace('\\n', '').split('\\t'))"
   ]
  },
  {
   "cell_type": "code",
   "execution_count": 3,
   "metadata": {
    "collapsed": true
   },
   "outputs": [],
   "source": [
    "# Encode data in desired format\n",
    "n = len(listArray) - 1\n",
    "p = len(listArray[0][0].split(',')) - 1\n",
    "X = np.zeros((n, p))\n",
    "y = np.zeros(n)\n",
    "for i, data in enumerate(listArray):\n",
    "    dataTemp = data[0].split(',')\n",
    "    if i == 0: # first row is attribute names\n",
    "        attributeNames = dataTemp[0:4]\n",
    "    else:\n",
    "        X[i - 1,:] = dataTemp[0:4]\n",
    "        flowerInd = dataTemp[4]\n",
    "        if flowerInd == 'Setosa':\n",
    "            y[i-1] = 0\n",
    "        elif flowerInd == \"Versicolor\":\n",
    "            y[i-1] = 1\n",
    "        else:\n",
    "            y[i-1] = 2"
   ]
  },
  {
   "cell_type": "code",
   "execution_count": 7,
   "metadata": {},
   "outputs": [
    {
     "name": "stdout",
     "output_type": "stream",
     "text": [
      "[[ 0.26500816  0.09308163  0.16744218  0.03847347]\n",
      " [ 0.09308163  0.11588435  0.0552381   0.03342313]\n",
      " [ 0.16744218  0.0552381   0.18517007  0.0425415 ]\n",
      " [ 0.03847347  0.03342313  0.0425415   0.04201088]]\n"
     ]
    }
   ],
   "source": [
    "# Actual Fisher discriminant done after here\n",
    "# Looping over pi, mu and S, since calculations are similar for all classes\n",
    "pi = np.zeros(3)\n",
    "mu = np.zeros((3, p))\n",
    "S = np.zeros((p,p))\n",
    "#S = 0\n",
    "for i in range(3):\n",
    "    nk = len(np.where(y == i)[0])\n",
    "    XSubset = X[np.where(y == i)[0], :]\n",
    "    pi[i]  = nk/n\n",
    "    mu[i,:] = np.sum(XSubset/nk, axis=0)\n",
    "\n",
    "    p1 = XSubset-mu[i,:];\n",
    "    p2 = np.dot(np.transpose(p1),p1)\n",
    "#    p3 = np.divide(p2,(n-i))\n",
    "    \n",
    "    S += p2\n",
    "    \n",
    "    # means and a transposed XSubset\n",
    "\n",
    "    # And remember to scale with number of DF, check result with size of S\n",
    "# S[0,0] should be something like 0.265\n",
    "S = S / (n-3)\n",
    "\n",
    "print S"
   ]
  },
  {
   "cell_type": "code",
   "execution_count": 40,
   "metadata": {},
   "outputs": [
    {
     "name": "stdout",
     "output_type": "stream",
     "text": [
      "[ 5.006  3.418  1.464  0.244]\n"
     ]
    },
    {
     "ename": "ValueError",
     "evalue": "operands could not be broadcast together with shapes (4,150) (4,4) ",
     "output_type": "error",
     "traceback": [
      "\u001b[0;31m---------------------------------------------------------------------------\u001b[0m",
      "\u001b[0;31mValueError\u001b[0m                                Traceback (most recent call last)",
      "\u001b[0;32m<ipython-input-40-59e9e61dea3c>\u001b[0m in \u001b[0;36m<module>\u001b[0;34m()\u001b[0m\n\u001b[1;32m     16\u001b[0m \u001b[0md\u001b[0m \u001b[0;34m=\u001b[0m \u001b[0mnp\u001b[0m\u001b[0;34m.\u001b[0m\u001b[0mzeros\u001b[0m\u001b[0;34m(\u001b[0m\u001b[0;34m(\u001b[0m\u001b[0;36m3\u001b[0m\u001b[0;34m,\u001b[0m \u001b[0mn\u001b[0m\u001b[0;34m)\u001b[0m\u001b[0;34m)\u001b[0m\u001b[0;34m\u001b[0m\u001b[0m\n\u001b[1;32m     17\u001b[0m \u001b[0;32mfor\u001b[0m \u001b[0mi\u001b[0m \u001b[0;32min\u001b[0m \u001b[0mrange\u001b[0m\u001b[0;34m(\u001b[0m\u001b[0;36m3\u001b[0m\u001b[0;34m)\u001b[0m\u001b[0;34m:\u001b[0m \u001b[0;31m# We are lazy programmers, therefor we loop\u001b[0m\u001b[0;34m\u001b[0m\u001b[0m\n\u001b[0;32m---> 18\u001b[0;31m     \u001b[0md\u001b[0m\u001b[0;34m[\u001b[0m\u001b[0mi\u001b[0m\u001b[0;34m,\u001b[0m\u001b[0;34m:\u001b[0m\u001b[0;34m]\u001b[0m \u001b[0;34m=\u001b[0m \u001b[0mproduceDiscriminantLine\u001b[0m\u001b[0;34m(\u001b[0m\u001b[0mX\u001b[0m\u001b[0;34m,\u001b[0m \u001b[0mS\u001b[0m\u001b[0;34m,\u001b[0m \u001b[0mmu\u001b[0m\u001b[0;34m[\u001b[0m\u001b[0mi\u001b[0m\u001b[0;34m,\u001b[0m\u001b[0;34m:\u001b[0m\u001b[0;34m]\u001b[0m\u001b[0;34m,\u001b[0m \u001b[0mpi\u001b[0m\u001b[0;34m[\u001b[0m\u001b[0mi\u001b[0m\u001b[0;34m]\u001b[0m\u001b[0;34m)\u001b[0m\u001b[0;34m\u001b[0m\u001b[0m\n\u001b[0m",
      "\u001b[0;32m<ipython-input-40-59e9e61dea3c>\u001b[0m in \u001b[0;36mproduceDiscriminantLine\u001b[0;34m(X, S, mu, pi)\u001b[0m\n\u001b[1;32m      7\u001b[0m     \u001b[0;32mprint\u001b[0m \u001b[0mmu\u001b[0m\u001b[0;34m\u001b[0m\u001b[0m\n\u001b[1;32m      8\u001b[0m     \u001b[0;31m# First \"part\" of the calc, something like X * inv(S) * mu' ...\u001b[0m\u001b[0;34m\u001b[0m\u001b[0;34m\u001b[0m\u001b[0m\n\u001b[0;32m----> 9\u001b[0;31m     \u001b[0mfirst\u001b[0m \u001b[0;34m=\u001b[0m \u001b[0mXtra\u001b[0m\u001b[0;34m*\u001b[0m\u001b[0mSinv\u001b[0m\u001b[0;34m*\u001b[0m\u001b[0mmu\u001b[0m \u001b[0;31m# * mu\u001b[0m\u001b[0;34m\u001b[0m\u001b[0m\n\u001b[0m\u001b[1;32m     10\u001b[0m     \u001b[0;31m# Find the \"second\" part in notes\u001b[0m\u001b[0;34m\u001b[0m\u001b[0;34m\u001b[0m\u001b[0m\n\u001b[1;32m     11\u001b[0m     \u001b[0mmutra\u001b[0m \u001b[0;34m=\u001b[0m \u001b[0mnp\u001b[0m\u001b[0;34m.\u001b[0m\u001b[0mtranspose\u001b[0m\u001b[0;34m(\u001b[0m\u001b[0mmu\u001b[0m\u001b[0;34m)\u001b[0m\u001b[0;34m\u001b[0m\u001b[0m\n",
      "\u001b[0;31mValueError\u001b[0m: operands could not be broadcast together with shapes (4,150) (4,4) "
     ]
    }
   ],
   "source": [
    "# Discriminants\n",
    "\n",
    "\n",
    "def produceDiscriminantLine(X, S, mu, pi):\n",
    "    Sinv = np.linalg.inv(S) # How to inverse S\n",
    "    Xtra = np.transpose(X)\n",
    "    print mu\n",
    "    # First \"part\" of the calc, something like X * inv(S) * mu' ...\n",
    "    first = Xtra*Sinv*mu # * mu\n",
    "    # Find the \"second\" part in notes\n",
    "    mutra = np.transpose(mu)\n",
    "    second = (mutra * Sinv * mutra) /2\n",
    "    third = np.log(pi)\n",
    "    return first - second + third\n",
    "\n",
    "d = np.zeros((3, n))\n",
    "for i in range(3): # We are lazy programmers, therefor we loop\n",
    "    d[i,:] = produceDiscriminantLine(X, S, mu[i,:], pi[i])"
   ]
  },
  {
   "cell_type": "code",
   "execution_count": null,
   "metadata": {
    "collapsed": true
   },
   "outputs": [],
   "source": [
    "# Classify according to discriminant\n",
    "yhat = np.unravel_index(np.argmax(d, axis=0), d.shape)[1] # index on \"1\" to get indexes\n",
    "confusion_matrix(y, yhat) # can also do manually by just checking if y == yhat and counting"
   ]
  },
  {
   "cell_type": "code",
   "execution_count": null,
   "metadata": {
    "collapsed": true
   },
   "outputs": [],
   "source": []
  },
  {
   "cell_type": "code",
   "execution_count": null,
   "metadata": {
    "collapsed": true
   },
   "outputs": [],
   "source": []
  }
 ],
 "metadata": {
  "kernelspec": {
   "display_name": "Python [conda env:anaconda]",
   "language": "python",
   "name": "conda-env-anaconda-py"
  },
  "language_info": {
   "codemirror_mode": {
    "name": "ipython",
    "version": 2
   },
   "file_extension": ".py",
   "mimetype": "text/x-python",
   "name": "python",
   "nbconvert_exporter": "python",
   "pygments_lexer": "ipython2",
   "version": "2.7.13"
  }
 },
 "nbformat": 4,
 "nbformat_minor": 2
}
